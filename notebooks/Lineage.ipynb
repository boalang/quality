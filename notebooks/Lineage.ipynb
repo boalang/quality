{
 "cells": [
  {
   "cell_type": "markdown",
   "metadata": {},
   "source": [
    "# Find the clusters intra consistency with 100% confidence"
   ]
  },
  {
   "cell_type": "code",
   "execution_count": 32,
   "metadata": {},
   "outputs": [],
   "source": [
    "from ete3 import NCBITaxa\n",
    "ncbi = NCBITaxa()"
   ]
  },
  {
   "cell_type": "markdown",
   "metadata": {},
   "source": [
    "## Get Lineage for a given species assignment"
   ]
  },
  {
   "cell_type": "code",
   "execution_count": 3,
   "metadata": {},
   "outputs": [
    {
     "name": "stdout",
     "output_type": "stream",
     "text": [
      "[1, 131567, 2759, 33154, 33208, 6072, 33213, 33511, 7711, 89593, 7742, 7776, 117570, 117571, 8287, 1338369, 32523, 32524, 40674, 32525, 9347, 1437010, 314146, 9443, 376913, 314293, 9526, 314295, 9604, 207598, 9605, 9606]\n"
     ]
    }
   ],
   "source": [
    "lineage = ncbi.get_lineage(9606)\n",
    "print (lineage)"
   ]
  },
  {
   "cell_type": "code",
   "execution_count": 5,
   "metadata": {},
   "outputs": [
    {
     "name": "stdout",
     "output_type": "stream",
     "text": [
      "['root', 'cellular organisms', 'Eukaryota', 'Opisthokonta', 'Metazoa', 'Eumetazoa', 'Bilateria', 'Deuterostomia', 'Chordata', 'Craniata', 'Vertebrata', 'Gnathostomata', 'Teleostomi', 'Euteleostomi', 'Sarcopterygii', 'Dipnotetrapodomorpha', 'Tetrapoda', 'Amniota', 'Mammalia', 'Theria', 'Eutheria', 'Boreoeutheria', 'Euarchontoglires', 'Primates', 'Haplorrhini', 'Simiiformes', 'Catarrhini', 'Hominoidea', 'Hominidae', 'Homininae', 'Homo', 'Homo sapiens']\n"
     ]
    }
   ],
   "source": [
    "names = ncbi.get_taxid_translator(lineage)\n",
    "print ([names[taxid] for taxid in lineage])"
   ]
  },
  {
   "cell_type": "markdown",
   "metadata": {},
   "source": [
    "## Get rank"
   ]
  },
  {
   "cell_type": "code",
   "execution_count": 6,
   "metadata": {},
   "outputs": [
    {
     "name": "stdout",
     "output_type": "stream",
     "text": [
      "{9443: 'order', 9606: 'species'}\n"
     ]
    }
   ],
   "source": [
    "print (ncbi.get_rank([9606, 9443]))\n"
   ]
  },
  {
   "cell_type": "markdown",
   "metadata": {},
   "source": [
    "## Example cluster\n",
    "- 10000001:1076524=1;1524468=1;666685=1\n",
    "\n"
   ]
  },
  {
   "cell_type": "code",
   "execution_count": 43,
   "metadata": {},
   "outputs": [
    {
     "name": "stdout",
     "output_type": "stream",
     "text": [
      "1076524\n",
      "1524468\n",
      "666685\n",
      "[1, 131567, 2, 1224, 1236, 135614, 1775411, 75309, 2621553, 1076524]\n",
      "[1, 131567, 2, 1224, 1236, 135614, 1775411, 75309, 2621553, 1524468]\n",
      "[1, 131567, 2, 1224, 1236, 135614, 1775411, 75309, 666685]\n",
      "[10, 10, 9]\n",
      "9\n",
      "[[1, 131567, 2, 1224, 1236, 135614, 1775411, 75309, 2621553, 1076524], [1, 131567, 2, 1224, 1236, 135614, 1775411, 75309, 2621553, 1524468], [1, 131567, 2, 1224, 1236, 135614, 1775411, 75309, 666685]]\n",
      "{75309}\n",
      "<class 'int'>\n",
      "75309 {75309: 'Rhodanobacter'} {75309: 'genus'}\n"
     ]
    }
   ],
   "source": [
    "def find_common(cluster_lineage, min_lineage):\n",
    "    level_set=set()\n",
    "    for j in reversed(range(min_lineage)):\n",
    "        level_set.clear()\n",
    "        for i in range(len(cluster_lineage)):\n",
    "            level_set.add(cluster_lineage[i][j])\n",
    "        if len(level_set)==1:\n",
    "            print (str(level_set))\n",
    "            return level_set.pop()\n",
    "            \n",
    "cluster_info = \"10000001:1076524=1;1524468=1;666685=1\"\n",
    "tmp = cluster_info.split(\":\")[1]\n",
    "taxas = tmp.split(\";\")\n",
    "for taxa in taxas:\n",
    "    tax_name = taxa[:taxa.index(\"=\")]\n",
    "    print (tax_name)\n",
    "\n",
    "\n",
    "            \n",
    "            \n",
    "lineage_length =[]\n",
    "cluster_lineage = []\n",
    "lin1= ncbi.get_lineage(1076524)\n",
    "lineage_length.append(len(lin1))\n",
    "cluster_lineage.append(lin1)\n",
    "\n",
    "lin2= ncbi.get_lineage(1524468)\n",
    "lineage_length.append(len(lin2))\n",
    "cluster_lineage.append(lin2)\n",
    "\n",
    "lin3= ncbi.get_lineage(666685)\n",
    "lineage_length.append(len(lin3))\n",
    "cluster_lineage.append(lin3)\n",
    "\n",
    "print (ncbi.get_lineage(1076524))\n",
    "print (ncbi.get_lineage(1524468))\n",
    "print (ncbi.get_lineage(666685))\n",
    "\n",
    "print(lineage_length)\n",
    "min_lineage = min(lineage_length)\n",
    "print(min(lineage_length))\n",
    "\n",
    "print(cluster_lineage)\n",
    "\n",
    "common_taxa = find_common(cluster_lineage, min_lineage)\n",
    "common_taxa_name = ncbi.get_taxid_translator([common_taxa])\n",
    "common_taxa_rank = ncbi.get_rank([common_taxa])\n",
    "print(type(common_taxa))\n",
    "print (common_taxa, common_taxa_name, common_taxa_rank)\n",
    "\n",
    "\n",
    "    \n",
    "\n",
    "    \n"
   ]
  },
  {
   "cell_type": "code",
   "execution_count": 15,
   "metadata": {},
   "outputs": [
    {
     "name": "stdout",
     "output_type": "stream",
     "text": [
      "[0, 0, 0, 0, 0, 0, 0, 0, 1954868]\n"
     ]
    }
   ],
   "source": [
    "sub13 = [x1 - x2 for (x1, x2) in zip(lin1, lin3)]\n",
    "print(sub13)"
   ]
  },
  {
   "cell_type": "code",
   "execution_count": 11,
   "metadata": {},
   "outputs": [
    {
     "name": "stdout",
     "output_type": "stream",
     "text": [
      "<class 'list'>\n"
     ]
    }
   ],
   "source": [
    "print (type(lin1))"
   ]
  },
  {
   "cell_type": "code",
   "execution_count": 5,
   "metadata": {},
   "outputs": [
    {
     "name": "stdout",
     "output_type": "stream",
     "text": [
      "\n",
      "                      /-Dendrochirotida, order\n",
      "                     |\n",
      "                     |                                                                /-Homo sapiens, species\n",
      "-Deuterostomia, no rank                                           /Homininae, subfamily\n",
      "                     |                /Euarchontoglires, superorder                   \\-Pan troglodytes, species\n",
      "                     |               |                           |\n",
      "                      \\Amniota, no rank                           \\-Mus musculus, species\n",
      "                                     |\n",
      "                                      \\-Aves, class\n"
     ]
    }
   ],
   "source": [
    "from ete3 import NCBITaxa, PhyloTree, Tree, faces, AttrFace, TreeStyle, TextFace\n",
    "ncbi = NCBITaxa()\n",
    "\n",
    "tree = ncbi.get_topology([9606, 9598, 10090, 7707, 8782])\n",
    "print (tree.get_ascii(attributes=[\"sci_name\", \"rank\"]))"
   ]
  },
  {
   "cell_type": "code",
   "execution_count": 18,
   "metadata": {},
   "outputs": [
    {
     "name": "stdout",
     "output_type": "stream",
     "text": [
      "\n",
      "                                                       /-Rhodanobacter sp. FW104-R5, species\n",
      "                    /unclassified Rhodanobacter, no rank\n",
      "-Rhodanobacter, genus                                  \\-Rhodanobacter sp. OR92, species\n",
      "                   |\n",
      "                    \\-Rhodanobacter denitrificans, species\n"
     ]
    },
    {
     "data": {
      "image/png": "[encoded data removed]",
      "text/plain": [
       "<IPython.core.display.Image object>"
      ]
     },
     "execution_count": 18,
     "metadata": {},
     "output_type": "execute_result"
    }
   ],
   "source": [
    "tax_list = [1076524, 1524468, 666685\n",
    "]\n",
    "tree = ncbi.get_topology(tax_list, intermediate_nodes=False)\n",
    "\n",
    "\n",
    "# custom layout: adds \"rank\" on top of branches, and sci_name as tip names\n",
    "def my_layout(node):\n",
    "    if getattr(node, \"rank\", None):\n",
    "        rank_face = AttrFace(\"rank\", fsize=7, fgcolor=\"indianred\")\n",
    "        node.add_face(rank_face, column=0, position=\"branch-top\")\n",
    "    if node.is_leaf():\n",
    "        sciname_face = AttrFace(\"sci_name\", fsize=9, fgcolor=\"green\")\n",
    "        node.add_face(sciname_face, column=0, position=\"branch-right\")\n",
    "ts = TreeStyle()\n",
    "ts.layout_fn = my_layout\n",
    "ts.show_leaf_name = False\n",
    "\n",
    "print (tree.get_ascii(attributes=[\"sci_name\", \"rank\"]))\n",
    "\n",
    "\n",
    "# tree.render(\"tree.png\", tree_style=ts)\n",
    "tree.render(\"%%inline\", w=150, units=\"mm\", tree_style=ts)\n"
   ]
  },
  {
   "cell_type": "code",
   "execution_count": null,
   "metadata": {},
   "outputs": [],
   "source": []
  }
 ],
 "metadata": {
  "kernelspec": {
   "display_name": "Python 3",
   "language": "python",
   "name": "python3"
  },
  "language_info": {
   "codemirror_mode": {
    "name": "ipython",
    "version": 3
   },
   "file_extension": ".py",
   "mimetype": "text/x-python",
   "name": "python",
   "nbconvert_exporter": "python",
   "pygments_lexer": "ipython3",
   "version": "3.6.10"
  }
 },
 "nbformat": 4,
 "nbformat_minor": 4
}

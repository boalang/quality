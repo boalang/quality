{
 "cells": [
  {
   "cell_type": "markdown",
   "metadata": {},
   "source": [
    "# Provenance of NR anntoations\n",
    "\n",
    "This notebook provides an example on how to generate the tree of life that shows annotations provenance (database of origin)"
   ]
  },
  {
   "cell_type": "code",
   "execution_count": 1,
   "metadata": {},
   "outputs": [],
   "source": [
    "from ete3 import NCBITaxa, Tree, faces, AttrFace, TreeStyle, NodeStyle, TextFace\n",
    "from ete3 import ClusterTree\n",
    "\n",
    "ncbi = NCBITaxa()"
   ]
  },
  {
   "cell_type": "markdown",
   "metadata": {},
   "source": [
    "## Protein example\n",
    "\n",
    "```\n",
    ">NP_000311.2 dihydropteridine reductase isoform 1 [Homo sapiens]^AP09417.2 RecName: Full=Dihydropteridine reductase; AltName: Full=HDHPR; AltName: Full=Quinoid dihydropteridine reductase; AltName: Full=Short chain dehydrogenase/reductase family 33C member 1^A1HDR_A Chain A, THE CRYSTALLOGRAPHIC STRUCTURE OF A HUMAN DIHYDROPTERIDINE REDUCTASE NADH BINARY COMPLEX EXPRESSED IN ESCHERICHIA COLI BY A CDNA CONSTRUCTED FROM ITS RAT HOMOLOGUE^ABAB20429.1 dihydropteridine reductase [Homo sapiens]^AAAH00576.1 QDPR protein [Homo sapiens]^ABAD97157.1 quinoid dihydropteridine reductase variant, partial [Homo sapiens]^ACAL38594.1 hypothetical protein, partial [synthetic construct]^AEAW92777.1 quinoid dihydropteridine reductase, isoform CRA_d [Homo sapiens]^AABM82852.1 quinoid dihydropteridine reductase [synthetic construct]^AABM86039.1 quinoid dihydropteridine reductase, partial [synthetic construct]^ABAF82462.1 unnamed protein product [Homo sapiens]^ABAI46382.1 quinoid dihydropteridine reductase, partial [synthetic construct]^AAEE61246.1 testis secretory sperm-binding protein Li 236P [Homo sapiens]^AAIC49549.1 QDPR, partial [synthetic construct]^ASJX30968.1 unnamed protein product, partial [Human ORFeome Gateway entry vector]\n",
    "```\n",
    "\n",
    "https://www.ncbi.nlm.nih.gov/protein/NP_000311.2"
   ]
  },
  {
   "cell_type": "markdown",
   "metadata": {},
   "source": [
    "```\n",
    "NCBI Reference Sequence: NP_000311.2\n",
    "UniProtKB/Swiss-Prot: P09417.2\n",
    "PDB: 1HDR_A\n",
    "GenBank: BAB20429.1\n",
    "GenBank: AAH00576.1\n",
    "GenBank: BAD97157.1\n",
    "GenBank: CAL38594.1\n",
    "EAW92777.1\n",
    "ABM82852.1\n",
    "ABM86039.1\n",
    "GenBank: BAF82462.1\n",
    "BAI46382.1\n",
    "AEE61246.1\n",
    "AIC49549.1\n",
    "SJX30968.1\n",
    "```"
   ]
  },
  {
   "cell_type": "markdown",
   "metadata": {},
   "source": [
    "### Tree\n",
    "```\n",
    "\n",
    "                                          /-synthetic construct, species, 5\n",
    "             /artificial sequences, no rank\n",
    "-root, no rank                            \\-Human ORFeome Gateway entry vector, species, 1\n",
    "            |\n",
    "             \\-Homo sapiens, species, 9\n",
    "```"
   ]
  },
  {
   "cell_type": "code",
   "execution_count": 9,
   "metadata": {},
   "outputs": [
    {
     "name": "stdout",
     "output_type": "stream",
     "text": [
      "Example numerical matrix\n",
      "\n",
      "#Names\tRefSeq\tGenBank\tPDB\tSwissProt\tTrEMBL\n",
      "Homo sapiens\t1\t6.0\t1\t1\t0  \n",
      "synthetic construct\t0\t5.0\t0\t0\t0  \n",
      "Human ORFeome Gateway entry vector\t0\t1\t0\t0\t0  \n",
      "\n"
     ]
    }
   ],
   "source": [
    "tree= Tree(\"((synthetic construct:5,Human ORFeome Gateway entry vector:1)1:1,Homo sapiens:9);\")\n",
    "\n",
    " \n",
    "matrix = \"\"\"\n",
    "#Names\\tRefSeq\\tGenBank\\tPDB\\tSwissProt\\tTrEMBL\n",
    "Homo sapiens\\t1\\t6.0\\t1\\t1\\t0  \n",
    "synthetic construct\\t0\\t5.0\\t0\\t0\\t0  \n",
    "Human ORFeome Gateway entry vector\\t0\\t1\\t0\\t0\\t0  \n",
    "\"\"\"\n",
    "print (\"Example numerical matrix\")\n",
    "print (matrix)\n",
    "\n",
    "t = ClusterTree(tree.write(),  text_array=matrix)"
   ]
  },
  {
   "cell_type": "code",
   "execution_count": 10,
   "metadata": {},
   "outputs": [
    {
     "name": "stdout",
     "output_type": "stream",
     "text": [
      "cluster_bars\n"
     ]
    },
    {
     "data": {
      "image/png": "[encoded data removed]",
      "text/plain": [
       "<IPython.core.display.Image object>"
      ]
     },
     "execution_count": 10,
     "metadata": {},
     "output_type": "execute_result"
    }
   ],
   "source": [
    "print(\"cluster_bars\")\n",
    "t.render(\"%%inline\", \"cluster_bars\", w=900)"
   ]
  },
  {
   "cell_type": "code",
   "execution_count": null,
   "metadata": {},
   "outputs": [],
   "source": []
  }
 ],
 "metadata": {
  "kernelspec": {
   "display_name": "Python 3",
   "language": "python",
   "name": "python3"
  },
  "language_info": {
   "codemirror_mode": {
    "name": "ipython",
    "version": 3
   },
   "file_extension": ".py",
   "mimetype": "text/x-python",
   "name": "python",
   "nbconvert_exporter": "python",
   "pygments_lexer": "ipython3",
   "version": "3.6.10"
  }
 },
 "nbformat": 4,
 "nbformat_minor": 4
}
